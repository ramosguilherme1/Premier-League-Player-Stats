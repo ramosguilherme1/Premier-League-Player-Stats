{
 "cells": [
  {
   "cell_type": "code",
   "execution_count": 27,
   "id": "7761a609",
   "metadata": {},
   "outputs": [],
   "source": [
    "# Import library\n",
    "\n",
    "import pandas as pd\n",
    "import numpy as np\n",
    "import matplotlib.pyplot as plt\n",
    "import scipy\n",
    "import seaborn as sns\n",
    "\n",
    "import warnings\n",
    "warnings.filterwarnings('ignore')"
   ]
  },
  {
   "cell_type": "code",
   "execution_count": 28,
   "id": "049f02af",
   "metadata": {},
   "outputs": [],
   "source": [
    "df = pd.read_csv('Premier League Player Stats.csv')"
   ]
  },
  {
   "cell_type": "code",
   "execution_count": 29,
   "id": "a5b181d9",
   "metadata": {},
   "outputs": [
    {
     "data": {
      "text/html": [
       "<div>\n",
       "<style scoped>\n",
       "    .dataframe tbody tr th:only-of-type {\n",
       "        vertical-align: middle;\n",
       "    }\n",
       "\n",
       "    .dataframe tbody tr th {\n",
       "        vertical-align: top;\n",
       "    }\n",
       "\n",
       "    .dataframe thead th {\n",
       "        text-align: right;\n",
       "    }\n",
       "</style>\n",
       "<table border=\"1\" class=\"dataframe\">\n",
       "  <thead>\n",
       "    <tr style=\"text-align: right;\">\n",
       "      <th></th>\n",
       "      <th>Rank</th>\n",
       "      <th>PLAYER</th>\n",
       "      <th>TEAM</th>\n",
       "      <th>GP</th>\n",
       "      <th>GS</th>\n",
       "      <th>MIN</th>\n",
       "      <th>G</th>\n",
       "      <th>ASST</th>\n",
       "      <th>SHOTS</th>\n",
       "      <th>SOG</th>\n",
       "    </tr>\n",
       "  </thead>\n",
       "  <tbody>\n",
       "    <tr>\n",
       "      <th>0</th>\n",
       "      <td>1</td>\n",
       "      <td>Jamie Vardy</td>\n",
       "      <td>Leicester City</td>\n",
       "      <td>35</td>\n",
       "      <td>34</td>\n",
       "      <td>3034</td>\n",
       "      <td>23</td>\n",
       "      <td>5</td>\n",
       "      <td>71</td>\n",
       "      <td>43</td>\n",
       "    </tr>\n",
       "    <tr>\n",
       "      <th>1</th>\n",
       "      <td>2</td>\n",
       "      <td>Danny Ings</td>\n",
       "      <td>Southampton</td>\n",
       "      <td>38</td>\n",
       "      <td>32</td>\n",
       "      <td>2812</td>\n",
       "      <td>22</td>\n",
       "      <td>2</td>\n",
       "      <td>66</td>\n",
       "      <td>38</td>\n",
       "    </tr>\n",
       "    <tr>\n",
       "      <th>2</th>\n",
       "      <td>3</td>\n",
       "      <td>Pierre-Emerick Aubameyang</td>\n",
       "      <td>Arsenal</td>\n",
       "      <td>36</td>\n",
       "      <td>35</td>\n",
       "      <td>3138</td>\n",
       "      <td>22</td>\n",
       "      <td>3</td>\n",
       "      <td>70</td>\n",
       "      <td>42</td>\n",
       "    </tr>\n",
       "    <tr>\n",
       "      <th>3</th>\n",
       "      <td>4</td>\n",
       "      <td>Raheem Shaquille Sterling</td>\n",
       "      <td>Manchester City</td>\n",
       "      <td>33</td>\n",
       "      <td>30</td>\n",
       "      <td>2660</td>\n",
       "      <td>20</td>\n",
       "      <td>1</td>\n",
       "      <td>68</td>\n",
       "      <td>38</td>\n",
       "    </tr>\n",
       "    <tr>\n",
       "      <th>4</th>\n",
       "      <td>5</td>\n",
       "      <td>Mohamed Salah Ghaly</td>\n",
       "      <td>Liverpool</td>\n",
       "      <td>34</td>\n",
       "      <td>33</td>\n",
       "      <td>2884</td>\n",
       "      <td>19</td>\n",
       "      <td>10</td>\n",
       "      <td>95</td>\n",
       "      <td>59</td>\n",
       "    </tr>\n",
       "  </tbody>\n",
       "</table>\n",
       "</div>"
      ],
      "text/plain": [
       "   Rank                     PLAYER             TEAM  GP  GS   MIN   G  ASST  \\\n",
       "0     1                Jamie Vardy   Leicester City  35  34  3034  23     5   \n",
       "1     2                 Danny Ings      Southampton  38  32  2812  22     2   \n",
       "2     3  Pierre-Emerick Aubameyang          Arsenal  36  35  3138  22     3   \n",
       "3     4  Raheem Shaquille Sterling  Manchester City  33  30  2660  20     1   \n",
       "4     5        Mohamed Salah Ghaly        Liverpool  34  33  2884  19    10   \n",
       "\n",
       "   SHOTS  SOG  \n",
       "0     71   43  \n",
       "1     66   38  \n",
       "2     70   42  \n",
       "3     68   38  \n",
       "4     95   59  "
      ]
     },
     "execution_count": 29,
     "metadata": {},
     "output_type": "execute_result"
    }
   ],
   "source": [
    "df.head()"
   ]
  },
  {
   "cell_type": "code",
   "execution_count": 30,
   "id": "34814bbf",
   "metadata": {},
   "outputs": [],
   "source": [
    "##Entendendo os dados\n",
    "\n",
    "# Rank : Rank of the player | Rank do Jogador\n",
    "# Player : Player name | Nome do Jogador\n",
    "# Team : Player team name | Nome do Time\n",
    "# GP : Games played | Jogos atuando\n",
    "# GS : Games started | Jogos iniciando como titular\n",
    "# MIN : Minutes played | Minutos Jogados\n",
    "# G : Goals | Gols\n",
    "# ASST : Assists | Assistencias\n",
    "# SHOTS : Total shots | Total de Chutes\n",
    "# SOG : Shots on goal | Chutes no Gol"
   ]
  },
  {
   "cell_type": "markdown",
   "id": "6c3f75c1",
   "metadata": {},
   "source": [
    "# Análise de eficiência"
   ]
  },
  {
   "cell_type": "markdown",
   "id": "1b64fd52",
   "metadata": {},
   "source": [
    "A análise de eficiência dos jogadores de futebol é uma forma de medir a capacidade de um jogador de marcar gols e fornecer assistências durante um jogo. Essa análise é importante porque gols e assistências são fundamentais para o sucesso de um time.\n",
    "\n",
    "Para realizar essa análise, é necessário coletar dados sobre minutos jogados, gols e assistências de cada jogador. A partir desses dados, é possível calcular a taxa de gols e a taxa de assistências por minuto jogado. Essas taxas servem como indicadores de eficiência e permitem comparar o desempenho dos jogadores."
   ]
  },
  {
   "cell_type": "code",
   "execution_count": 31,
   "id": "d9e5c91a",
   "metadata": {},
   "outputs": [
    {
     "name": "stdout",
     "output_type": "stream",
     "text": [
      "                                PLAYER               TEAM   MIN   G  taxa_gols\n",
      "10   Sergio Leonel Agüero del Castillo    Manchester City  1456  16   0.010989\n",
      "244                       Curtis Jones          Liverpool   122   1   0.008197\n",
      "32                      Olivier Giroud            Chelsea   999   8   0.008008\n",
      "1                           Danny Ings        Southampton  2812  22   0.007824\n",
      "23                     Mason Greenwood  Manchester United  1312  10   0.007622\n"
     ]
    }
   ],
   "source": [
    "# Adicionar uma coluna de taxa de gols\n",
    "df[\"taxa_gols\"] = df[\"G\"] / df[\"MIN\"]\n",
    "\n",
    "# Ordenar os jogadores pela taxa de gols\n",
    "df = df.sort_values(\"taxa_gols\", ascending=False)\n",
    "\n",
    "# Imprimir os jogadores com as maiores taxas de gols\n",
    "print(df[[\"PLAYER\", \"TEAM\", \"MIN\", \"G\", \"taxa_gols\"]].head())"
   ]
  },
  {
   "cell_type": "code",
   "execution_count": 32,
   "id": "884f7616",
   "metadata": {},
   "outputs": [
    {
     "data": {
      "image/png": "[encoded data removed]",
      "text/plain": [
       "<Figure size 432x288 with 1 Axes>"
      ]
     },
     "metadata": {
      "needs_background": "light"
     },
     "output_type": "display_data"
    }
   ],
   "source": [
    "# Mostrar os 10 primeiros jogadores\n",
    "df_top10 = df.head(10)\n",
    "\n",
    "# Criar um gráfico de barras com os 10 primeiros jogadores\n",
    "sns.barplot(x=\"PLAYER\", y=\"taxa_gols\", data=df_top10)\n",
    "\n",
    "# Adicionar rótulos de eixo e título\n",
    "plt.xlabel(\"Jogador\")\n",
    "plt.ylabel(\"Taxa de gols\")\n",
    "plt.title(\"Taxa de gols por jogador (top 10)\")\n",
    "\n",
    "# Rotacionar os nomes dos jogadores na vertical\n",
    "plt.xticks(rotation=90)\n",
    "\n",
    "# Mostrar o gráfico\n",
    "plt.show()"
   ]
  },
  {
   "cell_type": "code",
   "execution_count": 33,
   "id": "d424b0d0",
   "metadata": {},
   "outputs": [
    {
     "name": "stdout",
     "output_type": "stream",
     "text": [
      "                            PLAYER               TEAM   MIN  ASST  \\\n",
      "14                 Kevin De Bruyne    Manchester City  2798    20   \n",
      "425                   Andy Carroll   Newcastle United   618     4   \n",
      "238             Callum Hudson-Odoi            Chelsea   850     5   \n",
      "35   Bruno Miguel Borges Fernandes  Manchester United  1192     7   \n",
      "41                     David Silva    Manchester City  1832    10   \n",
      "\n",
      "     taxa_assistencias  \n",
      "14            0.007148  \n",
      "425           0.006472  \n",
      "238           0.005882  \n",
      "35            0.005872  \n",
      "41            0.005459  \n"
     ]
    }
   ],
   "source": [
    "# Adicionar uma coluna de taxa de assistências\n",
    "df[\"taxa_assistencias\"] = df[\"ASST\"] / df[\"MIN\"]\n",
    "\n",
    "# Ordenar os jogadores pela taxa de assistências\n",
    "df = df.sort_values(\"taxa_assistencias\", ascending=False)\n",
    "\n",
    "# Imprimir os jogadores com as maiores taxas de assistências\n",
    "print(df[[\"PLAYER\", \"TEAM\", \"MIN\", \"ASST\", \"taxa_assistencias\"]].head())"
   ]
  },
  {
   "cell_type": "code",
   "execution_count": 26,
   "id": "2207f15e",
   "metadata": {},
   "outputs": [
    {
     "data": {
      "image/png": "[encoded data removed]",
      "text/plain": [
       "<Figure size 432x288 with 1 Axes>"
      ]
     },
     "metadata": {
      "needs_background": "light"
     },
     "output_type": "display_data"
    }
   ],
   "source": [
    "# Mostrar os 10 primeiros jogadores com as maiores taxas de assistências\n",
    "df_top10_assist = df.sort_values(\"taxa_assistencias\", ascending=False).head(10)\n",
    "\n",
    "# Criar um gráfico de barras com os 10 primeiros jogadores\n",
    "sns.barplot(x=\"PLAYER\", y=\"taxa_assistencias\", data=df_top10_assist)\n",
    "\n",
    "# Adicionar rótulos de eixo e título\n",
    "plt.xlabel(\"Jogador\")\n",
    "plt.ylabel(\"Taxa de assistências\")\n",
    "plt.title(\"Taxa de assistências por jogador (top 10)\")\n",
    "\n",
    "# Rotacionar os nomes dos jogadores na vertical\n",
    "plt.xticks(rotation=90)\n",
    "\n",
    "# Mostrar o gráfico\n",
    "plt.show()"
   ]
  },
  {
   "cell_type": "markdown",
   "id": "f2c719b5",
   "metadata": {},
   "source": [
    "# Quantidade necessária de chutes para marcar\n",
    "\n",
    "A análise da eficiência de gols por chute no gol é uma forma de medir a capacidade de um jogador de marcar gols em relação ao número de chutes no gol. Essa análise é importante porque permite identificar jogadores altamente eficientes e comparar o desempenho entre jogadores.\n",
    "\n",
    "Para realizar essa análise, é necessário coletar dados sobre chutes no gol e gols marcados por cada jogador. A partir desses dados, é possível calcular a taxa de gols por chute no gol. Essa taxa serve como indicador de eficiência e permite comparar o desempenho dos jogadores."
   ]
  },
  {
   "cell_type": "markdown",
   "id": "07f43db6",
   "metadata": {},
   "source": [
    "Aqui esta um gráficos de barras para comparar a taxa de gols por chute no gol dos 10 jogadores mais eficientes e dos 10 jogadores menos eficientes:"
   ]
  },
  {
   "cell_type": "code",
   "execution_count": 44,
   "id": "f6244049",
   "metadata": {},
   "outputs": [
    {
     "data": {
      "image/png": "[encoded data removed]",
      "text/plain": [
       "<Figure size 432x288 with 1 Axes>"
      ]
     },
     "metadata": {
      "needs_background": "light"
     },
     "output_type": "display_data"
    }
   ],
   "source": [
    "# Adicionar uma coluna de taxa de gols por chute no gol\n",
    "df[\"taxa_gols_por_chute\"] = df[\"G\"] / df[\"SOG\"]\n",
    "\n",
    "# Ordenar os jogadores pela taxa de gols por chute no gol\n",
    "df = df.sort_values(\"taxa_gols_por_chute\", ascending=False)\n",
    "\n",
    "# Criar um gráfico de barras com os 10 jogadores mais eficientes\n",
    "sns.barplot(x=\"taxa_gols_por_chute\", y=\"PLAYER\", data=df_top10_eficientes, color='b')\n",
    "\n",
    "# Adicionar rótulos de eixo e título\n",
    "plt.ylabel(\"Jogador\")\n",
    "plt.xlabel(\"Taxa de gols por chute no gol\")\n",
    "plt.title(\"Top 10 jogadores mais eficientes\")\n",
    "\n",
    "# rotacionar os nomes dos jogadores na horizontal\n",
    "plt.yticks(rotation = 0)\n",
    "\n",
    "# Mostrar o gráfico\n",
    "plt.show()"
   ]
  },
  {
   "cell_type": "code",
   "execution_count": 46,
   "id": "ad0b5f7c",
   "metadata": {},
   "outputs": [
    {
     "data": {
      "image/png": "[encoded data removed]",
      "text/plain": [
       "<Figure size 432x288 with 1 Axes>"
      ]
     },
     "metadata": {
      "needs_background": "light"
     },
     "output_type": "display_data"
    }
   ],
   "source": [
    "# Criar um gráfico de barras com os 10 jogadores menos eficientes\n",
    "sns.barplot(x=\"taxa_gols_por_chute\", y=\"PLAYER\", data=df_top10_ineficientes, color='r')\n",
    "\n",
    "# Adicionar rótulos de eixo e título\n",
    "plt.ylabel(\"Jogador\")\n",
    "plt.xlabel(\"Taxa de gols por chute no gol\")\n",
    "plt.title(\"Top 10 jogadores menos eficientes\")\n",
    "\n",
    "# rotacionar os nomes dos jogadores na horizontal\n",
    "plt.yticks(rotation = 0)\n",
    "\n",
    "# Mostrar o gráfico\n",
    "plt.show()"
   ]
  },
  {
   "cell_type": "code",
   "execution_count": 47,
   "id": "ec02f2e2",
   "metadata": {},
   "outputs": [],
   "source": [
    "#Filtrar jogadores que marcaram mais de 1 gol\n",
    "df_filtrado = df[df[\"G\"]>1]\n",
    "\n",
    "# Adicionar uma coluna de taxa de gols por chute no gol\n",
    "df_filtrado[\"taxa_gols_por_chute\"] = df_filtrado[\"G\"] / df_filtrado[\"SOG\"]\n",
    "\n",
    "# Ordenar os jogadores pela taxa de gols por chute no gol\n",
    "df_filtrado = df_filtrado.sort_values(\"taxa_gols_por_chute\", ascending=False)"
   ]
  },
  {
   "cell_type": "markdown",
   "id": "08a221fa",
   "metadata": {},
   "source": [
    "Ao desconsiderar jogadores que marcaram apenas 1 gol ou não marcaram nenhum, a análise da eficiência de gols por chute no gol se torna mais precisa e confiável. Isso ocorre porque jogadores que marcaram apenas 1 gol ou não marcaram nenhum têm uma amostra pequena de dados, o que pode distorcer a análise. Além disso, esses jogadores podem ter jogado pouco tempo, o que pode afetar sua taxa de gols por chute no gol.\n",
    "\n",
    "Além disso, remover jogadores com menos gols marcados também ajuda a identificar jogadores com uma performance consistente e mais confiável, afinal jogadores que não marcaram muitos gols pode não ser tão eficientes assim, e incluindo-os na análise pode distorcer os resultados. Assim, essa mudança na análise permite comparar jogadores com um histórico de desempenho mais consistente e comparáveis, o que resulta em uma análise mais precisa."
   ]
  },
  {
   "cell_type": "code",
   "execution_count": 50,
   "id": "63ac058c",
   "metadata": {},
   "outputs": [
    {
     "data": {
      "image/png": "[encoded data removed]",
      "text/plain": [
       "<Figure size 432x288 with 1 Axes>"
      ]
     },
     "metadata": {
      "needs_background": "light"
     },
     "output_type": "display_data"
    }
   ],
   "source": [
    "# Mostrar os 10 primeiros jogadores com as maiores taxas de gols por chute no gol\n",
    "df_top10_eficientes = df_filtrado.sort_values(\"taxa_gols_por_chute\", ascending=False).head(10)\n",
    "\n",
    "# Mostrar os 10 últimos jogadores com as menores taxas de gols por chute no gol\n",
    "df_top10_ineficientes = df_filtrado.sort_values(\"taxa_gols_por_chute\", ascending=True).tail(10)\n",
    "\n",
    "# Criar um gráfico de barras com os 10 jogadores mais eficientes\n",
    "sns.barplot(x=\"taxa_gols_por_chute\", y=\"PLAYER\", data=df_top10_eficientes, color='b')\n",
    "\n",
    "# Adicionar rótulos de eixo e título\n",
    "plt.ylabel(\"Jogador\")\n",
    "plt.xlabel(\"Taxa de gols por chute no gol\")\n",
    "plt.title(\"Top 10 jogadores mais eficientes\")\n",
    "\n",
    "# rotacionar os nomes dos jogadores na horizontal\n",
    "plt.yticks(rotation = 0)\n",
    "\n",
    "# Mostrar o gráfico\n",
    "plt.show()\n"
   ]
  },
  {
   "cell_type": "code",
   "execution_count": 51,
   "id": "3db2fc26",
   "metadata": {},
   "outputs": [
    {
     "data": {
      "image/png": "[encoded data removed]",
      "text/plain": [
       "<Figure size 432x288 with 1 Axes>"
      ]
     },
     "metadata": {
      "needs_background": "light"
     },
     "output_type": "display_data"
    }
   ],
   "source": [
    "# Criar um gráfico de barras com os 10 jogadores menos eficientes\n",
    "sns.barplot(x=\"taxa_gols_por_chute\", y=\"PLAYER\", data=df_top10_ineficientes, color='r')\n",
    "\n",
    "# Adicionar rótulos de eixo e título\n",
    "plt.ylabel(\"Jogador\")\n",
    "plt.xlabel(\"Taxa de gols por chute no gol\")\n",
    "plt.title(\"Top 10 jogadores menos eficientes\")\n",
    "\n",
    "# rotacionar os nomes dos jogadores na horizontal\n",
    "plt.yticks(rotation = 0)\n",
    "\n",
    "# Mostrar o gráfico\n",
    "plt.show()"
   ]
  },
  {
   "cell_type": "code",
   "execution_count": 54,
   "id": "0d1ea219",
   "metadata": {},
   "outputs": [
    {
     "data": {
      "text/html": [
       "<div>\n",
       "<style scoped>\n",
       "    .dataframe tbody tr th:only-of-type {\n",
       "        vertical-align: middle;\n",
       "    }\n",
       "\n",
       "    .dataframe tbody tr th {\n",
       "        vertical-align: top;\n",
       "    }\n",
       "\n",
       "    .dataframe thead th {\n",
       "        text-align: right;\n",
       "    }\n",
       "</style>\n",
       "<table border=\"1\" class=\"dataframe\">\n",
       "  <thead>\n",
       "    <tr style=\"text-align: right;\">\n",
       "      <th></th>\n",
       "      <th>Rank</th>\n",
       "      <th>PLAYER</th>\n",
       "      <th>TEAM</th>\n",
       "      <th>GP</th>\n",
       "      <th>GS</th>\n",
       "      <th>MIN</th>\n",
       "      <th>G</th>\n",
       "      <th>ASST</th>\n",
       "      <th>SHOTS</th>\n",
       "      <th>SOG</th>\n",
       "      <th>taxa_gols</th>\n",
       "      <th>taxa_assistencias</th>\n",
       "      <th>taxa_gols_por_chute</th>\n",
       "      <th>taxa_gols_por_minuto</th>\n",
       "      <th>gols_por_jogo</th>\n",
       "      <th>minutos_por_jogo</th>\n",
       "    </tr>\n",
       "  </thead>\n",
       "  <tbody>\n",
       "    <tr>\n",
       "      <th>0</th>\n",
       "      <td>1</td>\n",
       "      <td>Jamie Vardy</td>\n",
       "      <td>Leicester City</td>\n",
       "      <td>35</td>\n",
       "      <td>34</td>\n",
       "      <td>3034</td>\n",
       "      <td>23</td>\n",
       "      <td>5</td>\n",
       "      <td>71</td>\n",
       "      <td>43</td>\n",
       "      <td>0.007581</td>\n",
       "      <td>0.001648</td>\n",
       "      <td>0.534884</td>\n",
       "      <td>0.007581</td>\n",
       "      <td>0.657143</td>\n",
       "      <td>86.685714</td>\n",
       "    </tr>\n",
       "    <tr>\n",
       "      <th>2</th>\n",
       "      <td>3</td>\n",
       "      <td>Pierre-Emerick Aubameyang</td>\n",
       "      <td>Arsenal</td>\n",
       "      <td>36</td>\n",
       "      <td>35</td>\n",
       "      <td>3138</td>\n",
       "      <td>22</td>\n",
       "      <td>3</td>\n",
       "      <td>70</td>\n",
       "      <td>42</td>\n",
       "      <td>0.007011</td>\n",
       "      <td>0.000956</td>\n",
       "      <td>0.523810</td>\n",
       "      <td>0.007011</td>\n",
       "      <td>0.611111</td>\n",
       "      <td>87.166667</td>\n",
       "    </tr>\n",
       "    <tr>\n",
       "      <th>1</th>\n",
       "      <td>2</td>\n",
       "      <td>Danny Ings</td>\n",
       "      <td>Southampton</td>\n",
       "      <td>38</td>\n",
       "      <td>32</td>\n",
       "      <td>2812</td>\n",
       "      <td>22</td>\n",
       "      <td>2</td>\n",
       "      <td>66</td>\n",
       "      <td>38</td>\n",
       "      <td>0.007824</td>\n",
       "      <td>0.000711</td>\n",
       "      <td>0.578947</td>\n",
       "      <td>0.007824</td>\n",
       "      <td>0.578947</td>\n",
       "      <td>74.000000</td>\n",
       "    </tr>\n",
       "    <tr>\n",
       "      <th>3</th>\n",
       "      <td>4</td>\n",
       "      <td>Raheem Shaquille Sterling</td>\n",
       "      <td>Manchester City</td>\n",
       "      <td>33</td>\n",
       "      <td>30</td>\n",
       "      <td>2660</td>\n",
       "      <td>20</td>\n",
       "      <td>1</td>\n",
       "      <td>68</td>\n",
       "      <td>38</td>\n",
       "      <td>0.007519</td>\n",
       "      <td>0.000376</td>\n",
       "      <td>0.526316</td>\n",
       "      <td>0.007519</td>\n",
       "      <td>0.606061</td>\n",
       "      <td>80.606061</td>\n",
       "    </tr>\n",
       "    <tr>\n",
       "      <th>4</th>\n",
       "      <td>5</td>\n",
       "      <td>Mohamed Salah Ghaly</td>\n",
       "      <td>Liverpool</td>\n",
       "      <td>34</td>\n",
       "      <td>33</td>\n",
       "      <td>2884</td>\n",
       "      <td>19</td>\n",
       "      <td>10</td>\n",
       "      <td>95</td>\n",
       "      <td>59</td>\n",
       "      <td>0.006588</td>\n",
       "      <td>0.003467</td>\n",
       "      <td>0.322034</td>\n",
       "      <td>0.006588</td>\n",
       "      <td>0.558824</td>\n",
       "      <td>84.823529</td>\n",
       "    </tr>\n",
       "    <tr>\n",
       "      <th>6</th>\n",
       "      <td>7</td>\n",
       "      <td>Harry Kane</td>\n",
       "      <td>Tottenham Hotspur</td>\n",
       "      <td>29</td>\n",
       "      <td>29</td>\n",
       "      <td>2589</td>\n",
       "      <td>18</td>\n",
       "      <td>2</td>\n",
       "      <td>62</td>\n",
       "      <td>37</td>\n",
       "      <td>0.006952</td>\n",
       "      <td>0.000772</td>\n",
       "      <td>0.486486</td>\n",
       "      <td>0.006952</td>\n",
       "      <td>0.620690</td>\n",
       "      <td>89.275862</td>\n",
       "    </tr>\n",
       "    <tr>\n",
       "      <th>5</th>\n",
       "      <td>6</td>\n",
       "      <td>Sadio Mané</td>\n",
       "      <td>Liverpool</td>\n",
       "      <td>35</td>\n",
       "      <td>31</td>\n",
       "      <td>2753</td>\n",
       "      <td>18</td>\n",
       "      <td>7</td>\n",
       "      <td>66</td>\n",
       "      <td>36</td>\n",
       "      <td>0.006538</td>\n",
       "      <td>0.002543</td>\n",
       "      <td>0.500000</td>\n",
       "      <td>0.006538</td>\n",
       "      <td>0.514286</td>\n",
       "      <td>78.657143</td>\n",
       "    </tr>\n",
       "    <tr>\n",
       "      <th>7</th>\n",
       "      <td>8</td>\n",
       "      <td>Raúl Alonso Jiménez Rodríguez</td>\n",
       "      <td>Wolverhampton Wanderers</td>\n",
       "      <td>38</td>\n",
       "      <td>37</td>\n",
       "      <td>3244</td>\n",
       "      <td>17</td>\n",
       "      <td>6</td>\n",
       "      <td>89</td>\n",
       "      <td>44</td>\n",
       "      <td>0.005240</td>\n",
       "      <td>0.001850</td>\n",
       "      <td>0.386364</td>\n",
       "      <td>0.005240</td>\n",
       "      <td>0.447368</td>\n",
       "      <td>85.368421</td>\n",
       "    </tr>\n",
       "    <tr>\n",
       "      <th>8</th>\n",
       "      <td>9</td>\n",
       "      <td>Marcus Rashford</td>\n",
       "      <td>Manchester United</td>\n",
       "      <td>31</td>\n",
       "      <td>31</td>\n",
       "      <td>2653</td>\n",
       "      <td>17</td>\n",
       "      <td>7</td>\n",
       "      <td>77</td>\n",
       "      <td>44</td>\n",
       "      <td>0.006408</td>\n",
       "      <td>0.002639</td>\n",
       "      <td>0.386364</td>\n",
       "      <td>0.006408</td>\n",
       "      <td>0.548387</td>\n",
       "      <td>85.580645</td>\n",
       "    </tr>\n",
       "    <tr>\n",
       "      <th>9</th>\n",
       "      <td>10</td>\n",
       "      <td>Anthony Martial</td>\n",
       "      <td>Manchester United</td>\n",
       "      <td>32</td>\n",
       "      <td>31</td>\n",
       "      <td>2638</td>\n",
       "      <td>17</td>\n",
       "      <td>6</td>\n",
       "      <td>59</td>\n",
       "      <td>40</td>\n",
       "      <td>0.006444</td>\n",
       "      <td>0.002274</td>\n",
       "      <td>0.425000</td>\n",
       "      <td>0.006444</td>\n",
       "      <td>0.531250</td>\n",
       "      <td>82.437500</td>\n",
       "    </tr>\n",
       "  </tbody>\n",
       "</table>\n",
       "</div>"
      ],
      "text/plain": [
       "   Rank                         PLAYER                     TEAM  GP  GS   MIN  \\\n",
       "0     1                    Jamie Vardy           Leicester City  35  34  3034   \n",
       "2     3      Pierre-Emerick Aubameyang                  Arsenal  36  35  3138   \n",
       "1     2                     Danny Ings              Southampton  38  32  2812   \n",
       "3     4      Raheem Shaquille Sterling          Manchester City  33  30  2660   \n",
       "4     5            Mohamed Salah Ghaly                Liverpool  34  33  2884   \n",
       "6     7                     Harry Kane        Tottenham Hotspur  29  29  2589   \n",
       "5     6                     Sadio Mané                Liverpool  35  31  2753   \n",
       "7     8  Raúl Alonso Jiménez Rodríguez  Wolverhampton Wanderers  38  37  3244   \n",
       "8     9                Marcus Rashford        Manchester United  31  31  2653   \n",
       "9    10                Anthony Martial        Manchester United  32  31  2638   \n",
       "\n",
       "    G  ASST  SHOTS  SOG  taxa_gols  taxa_assistencias  taxa_gols_por_chute  \\\n",
       "0  23     5     71   43   0.007581           0.001648             0.534884   \n",
       "2  22     3     70   42   0.007011           0.000956             0.523810   \n",
       "1  22     2     66   38   0.007824           0.000711             0.578947   \n",
       "3  20     1     68   38   0.007519           0.000376             0.526316   \n",
       "4  19    10     95   59   0.006588           0.003467             0.322034   \n",
       "6  18     2     62   37   0.006952           0.000772             0.486486   \n",
       "5  18     7     66   36   0.006538           0.002543             0.500000   \n",
       "7  17     6     89   44   0.005240           0.001850             0.386364   \n",
       "8  17     7     77   44   0.006408           0.002639             0.386364   \n",
       "9  17     6     59   40   0.006444           0.002274             0.425000   \n",
       "\n",
       "   taxa_gols_por_minuto  gols_por_jogo  minutos_por_jogo  \n",
       "0              0.007581       0.657143         86.685714  \n",
       "2              0.007011       0.611111         87.166667  \n",
       "1              0.007824       0.578947         74.000000  \n",
       "3              0.007519       0.606061         80.606061  \n",
       "4              0.006588       0.558824         84.823529  \n",
       "6              0.006952       0.620690         89.275862  \n",
       "5              0.006538       0.514286         78.657143  \n",
       "7              0.005240       0.447368         85.368421  \n",
       "8              0.006408       0.548387         85.580645  \n",
       "9              0.006444       0.531250         82.437500  "
      ]
     },
     "execution_count": 54,
     "metadata": {},
     "output_type": "execute_result"
    }
   ],
   "source": [
    "# Calcular o número médio de gols marcados por jogo\n",
    "gols_por_jogo = df['G'] / df['GP']\n",
    "\n",
    "# Calcular o número médio de minutos jogados por jogo\n",
    "minutos_por_jogo = df['MIN'] / df['GP']\n",
    "\n",
    "# Adicionar colunas de gols por jogo e minutos por jogo ao dataframe\n",
    "df['gols_por_jogo'] = gols_por_jogo\n",
    "df['minutos_por_jogo'] = minutos_por_jogo\n",
    "\n",
    "# Selecionar jogadores com taxa de gols por jogo acima da média e minutos por jogo acima da média\n",
    "jogadores_com_potencial = df[(df['gols_por_jogo'] > df['gols_por_jogo'].mean()) & (df['minutos_por_jogo'] > df['minutos_por_jogo'].mean())]\n",
    "\n",
    "# classificar jogadores por gols marcados\n",
    "jogadores_com_potencial = jogadores_com_potencial.sort_values(\"G\", ascending=False)\n",
    "\n",
    "# mostrar os jogadores com maior potencial\n",
    "jogadores_com_potencial.head(10)"
   ]
  },
  {
   "cell_type": "code",
   "execution_count": 65,
   "id": "67d1f5c2",
   "metadata": {},
   "outputs": [
    {
     "name": "stdout",
     "output_type": "stream",
     "text": [
      "Erro absoluto médio: 0.5016666666666663\n"
     ]
    }
   ],
   "source": [
    "from sklearn.ensemble import RandomForestRegressor\n",
    "from sklearn.model_selection import train_test_split\n",
    "from sklearn.metrics import mean_absolute_error\n",
    "\n",
    "# Selecionar apenas as linhas do Manchester United\n",
    "df_mu = df[df['TEAM'] == 'Manchester United']\n",
    "\n",
    "# Selecionar as colunas de minutos jogados, gols marcados e assistências como variáveis de entrada\n",
    "X = df_mu[['MIN', 'G', 'ASST']]\n",
    "\n",
    "# Selecionar a coluna de gols sofridos como variável de saída\n",
    "y = df_mu['GS']\n",
    "\n",
    "# Dividir os dados em conjunto de treinamento e teste\n",
    "X_train, X_test, y_train, y_test = train_test_split(X, y, test_size=0.2)\n",
    "\n",
    "# Criar um modelo de Random Forest\n",
    "rf = RandomForestRegressor(n_estimators=100, random_state=42)\n",
    "\n",
    "# Treinar o modelo com os dados de treinamento\n",
    "rf.fit(X_train, y_train)\n",
    "\n",
    "# Fazer previsões com os dados de teste\n",
    "y_pred = rf.predict(X_test)\n",
    "\n",
    "# Calcular o erro absoluto médio\n",
    "mae = mean_absolute_error(y_test, y_pred)\n",
    "\n",
    "# Imprimir o erro absoluto médio\n",
    "print(\"Erro absoluto médio:\", mae)\n"
   ]
  },
  {
   "cell_type": "markdown",
   "id": "74a14eda",
   "metadata": {},
   "source": [
    "A célula acima seleciona apenas as linhas do Manchester United do seu conjunto de dados, seleciona as colunas de minutos jogados, gols marcados e assistências como variáveis de entrada e a coluna de gols sofridos como a variável de saída. Ele então divide os dados em um conjunto de treinamento e um conjunto de teste, cria um modelo de Random Forest, treina o modelo com os dados de treinamento e faz previsões com os dados de teste. Por fim, ele calcula o erro absoluto médio entre as previsões e os valores reais."
   ]
  },
  {
   "cell_type": "code",
   "execution_count": null,
   "id": "15ed6f14",
   "metadata": {},
   "outputs": [],
   "source": []
  }
 ],
 "metadata": {
  "kernelspec": {
   "display_name": "Python 3 (ipykernel)",
   "language": "python",
   "name": "python3"
  },
  "language_info": {
   "codemirror_mode": {
    "name": "ipython",
    "version": 3
   },
   "file_extension": ".py",
   "mimetype": "text/x-python",
   "name": "python",
   "nbconvert_exporter": "python",
   "pygments_lexer": "ipython3",
   "version": "3.9.12"
  }
 },
 "nbformat": 4,
 "nbformat_minor": 5
}
